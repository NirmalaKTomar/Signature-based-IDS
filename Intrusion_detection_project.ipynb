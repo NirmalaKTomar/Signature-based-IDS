{
  "nbformat": 4,
  "nbformat_minor": 0,
  "metadata": {
    "accelerator": "GPU",
    "colab": {
      "name": "Intrusion detection project",
      "provenance": [],
      "collapsed_sections": []
    },
    "kernelspec": {
      "display_name": "Python 3",
      "name": "python3"
    },
    "language_info": {
      "name": "python"
    }
  },
  "cells": [
    {
      "cell_type": "markdown",
      "metadata": {
        "id": "ZEQnALU_-N_n"
      },
      "source": [
        ""
      ]
    },
    {
      "cell_type": "markdown",
      "metadata": {
        "id": "VXO5T86SGX2O"
      },
      "source": [
        "a 3stage hybrid IDS that incorporates a signature-based IDS is proposed to detectknown  attacks on vehicular networks\n",
        "\n",
        "Training models- tree-based supervised learners — decision tree and extreme gradient boosting — used as multi-class classifiers for known attack detection;\n",
        "\n",
        "\n"
      ]
    },
    {
      "cell_type": "code",
      "metadata": {
        "id": "3lvtPFySpgk-"
      },
      "source": [
        "#importing all required libraries\n",
        "import numpy as np\n",
        "import pandas as pd\n",
        "import matplotlib.pyplot as plt\n",
        "from sklearn.preprocessing import LabelEncoder\n",
        "from sklearn.model_selection import train_test_split\n",
        "from sklearn.metrics import classification_report,confusion_matrix,accuracy_score,precision_recall_fscore_support\n",
        "from sklearn.metrics import f1_score,roc_auc_score\n",
        "from sklearn.tree import DecisionTreeClassifier\n",
        "import xgboost as xgb\n",
        "import FCBF_module\n",
        "from xgboost import plot_importance\n",
        "from sklearn.feature_selection import mutual_info_classif\n",
        "import warnings\n",
        "warnings.filterwarnings(\"ignore\")"
      ],
      "execution_count": null,
      "outputs": []
    },
    {
      "cell_type": "code",
      "metadata": {
        "colab": {
          "base_uri": "https://localhost:8080/"
        },
        "id": "lkzVchMlpiga",
        "outputId": "af3af106-cd60-44aa-8d22-c3e8924f96e9"
      },
      "source": [
        "#dataset\n",
        "attack_data = pd.read_csv(\"https://github.com/NirmalaKTomar/CICIDS2017_Sample_dataset/blob/main/CICIDS2017_sample.csv?raw=true\");\n",
        "attack_data.head"
      ],
      "execution_count": null,
      "outputs": [
        {
          "output_type": "execute_result",
          "data": {
            "text/plain": [
              "<bound method NDFrame.head of        Flow Duration  Total Fwd Packets  ...  Idle Min   Label\n",
              "0                  4                  2  ...         0  BENIGN\n",
              "1             142377                 46  ...         0  BENIGN\n",
              "2             118873                 23  ...         0  BENIGN\n",
              "3             143577                 43  ...         0  BENIGN\n",
              "4             143745                 49  ...         0  BENIGN\n",
              "...              ...                ...  ...       ...     ...\n",
              "56656            234                  2  ...         0  BENIGN\n",
              "56657         133288                  2  ...         0  BENIGN\n",
              "56658       11507694                  5  ...   6503640     DoS\n",
              "56659       11507707                  8  ...   6503122     DoS\n",
              "56660       11512204                  8  ...   6507197     DoS\n",
              "\n",
              "[56661 rows x 78 columns]>"
            ]
          },
          "metadata": {},
          "execution_count": 2
        }
      ]
    },
    {
      "cell_type": "code",
      "metadata": {
        "colab": {
          "base_uri": "https://localhost:8080/",
          "height": 263
        },
        "id": "GCI6Dvlgqhxa",
        "outputId": "1448d913-f722-44c8-b641-448a6c4b7a42"
      },
      "source": [
        "#identify types of attack\n",
        "Detected_Types=pd.DataFrame(attack_data.Label.value_counts())\n",
        "Detected_Types\n",
        "\n"
      ],
      "execution_count": null,
      "outputs": [
        {
          "output_type": "execute_result",
          "data": {
            "text/html": [
              "<div>\n",
              "<style scoped>\n",
              "    .dataframe tbody tr th:only-of-type {\n",
              "        vertical-align: middle;\n",
              "    }\n",
              "\n",
              "    .dataframe tbody tr th {\n",
              "        vertical-align: top;\n",
              "    }\n",
              "\n",
              "    .dataframe thead th {\n",
              "        text-align: right;\n",
              "    }\n",
              "</style>\n",
              "<table border=\"1\" class=\"dataframe\">\n",
              "  <thead>\n",
              "    <tr style=\"text-align: right;\">\n",
              "      <th></th>\n",
              "      <th>Label</th>\n",
              "    </tr>\n",
              "  </thead>\n",
              "  <tbody>\n",
              "    <tr>\n",
              "      <th>BENIGN</th>\n",
              "      <td>22731</td>\n",
              "    </tr>\n",
              "    <tr>\n",
              "      <th>DoS</th>\n",
              "      <td>19035</td>\n",
              "    </tr>\n",
              "    <tr>\n",
              "      <th>PortScan</th>\n",
              "      <td>7946</td>\n",
              "    </tr>\n",
              "    <tr>\n",
              "      <th>BruteForce</th>\n",
              "      <td>2767</td>\n",
              "    </tr>\n",
              "    <tr>\n",
              "      <th>WebAttack</th>\n",
              "      <td>2180</td>\n",
              "    </tr>\n",
              "    <tr>\n",
              "      <th>Bot</th>\n",
              "      <td>1966</td>\n",
              "    </tr>\n",
              "    <tr>\n",
              "      <th>Infiltration</th>\n",
              "      <td>36</td>\n",
              "    </tr>\n",
              "  </tbody>\n",
              "</table>\n",
              "</div>"
            ],
            "text/plain": [
              "              Label\n",
              "BENIGN        22731\n",
              "DoS           19035\n",
              "PortScan       7946\n",
              "BruteForce     2767\n",
              "WebAttack      2180\n",
              "Bot            1966\n",
              "Infiltration     36"
            ]
          },
          "metadata": {},
          "execution_count": 3
        }
      ]
    },
    {
      "cell_type": "markdown",
      "metadata": {
        "id": "nVh8D4Obg9x7"
      },
      "source": [
        "Data Pre-processing"
      ]
    },
    {
      "cell_type": "code",
      "metadata": {
        "id": "hHd6STS_qH2p"
      },
      "source": [
        "attributes = attack_data.dtypes[attack_data.dtypes != 'object'].index\n",
        "attack_data[attributes] = attack_data[attributes].apply(lambda x: (x - x.mean()) / (x.std()))\n",
        "attack_data = attack_data.fillna(0)"
      ],
      "execution_count": null,
      "outputs": []
    },
    {
      "cell_type": "code",
      "metadata": {
        "id": "XEhG6ot8qKi_"
      },
      "source": [
        "#data sampling\n",
        "labelencoder = LabelEncoder()\n",
        "attack_data.iloc[:, -1] = labelencoder.fit_transform(attack_data.iloc[:, -1])#attack_data.Label.value_counts()"
      ],
      "execution_count": null,
      "outputs": []
    },
    {
      "cell_type": "code",
      "metadata": {
        "id": "ikVQN_B5qORx"
      },
      "source": [
        "attack_data_minor_category = attack_data[(attack_data['Label']==6)|(attack_data['Label']==1)|(attack_data['Label']==4)]\n",
        "attack_data_major_category = attack_data.drop(attack_data_minor_category.index)"
      ],
      "execution_count": null,
      "outputs": []
    },
    {
      "cell_type": "code",
      "metadata": {
        "id": "xKY_ZhS-qQzu"
      },
      "source": [
        "X = attack_data_major_category.drop(['Label'],axis=1) \n",
        "y = attack_data_major_category.iloc[:, -1].values.reshape(-1,1)\n",
        "y=np.ravel(y)"
      ],
      "execution_count": null,
      "outputs": []
    },
    {
      "cell_type": "code",
      "metadata": {
        "id": "z7oZEw4rqTIV"
      },
      "source": [
        "from sklearn.cluster import MiniBatchKMeans\n",
        "kmeans = MiniBatchKMeans(n_clusters=1000, random_state=0).fit(X)"
      ],
      "execution_count": null,
      "outputs": []
    },
    {
      "cell_type": "code",
      "metadata": {
        "id": "HHn6d0QpqYM5"
      },
      "source": [
        "klabel=kmeans.labels_\n",
        "attack_data_major_category['klabel']=klabel"
      ],
      "execution_count": null,
      "outputs": []
    },
    {
      "cell_type": "code",
      "metadata": {
        "colab": {
          "base_uri": "https://localhost:8080/"
        },
        "id": "LT4sk6GUqZ4v",
        "outputId": "4aca7961-f56c-4c60-84d3-0dea554b7640"
      },
      "source": [
        "attack_data_major_category['klabel'].value_counts()"
      ],
      "execution_count": null,
      "outputs": [
        {
          "output_type": "execute_result",
          "data": {
            "text/plain": [
              "608    1037\n",
              "21      936\n",
              "625     822\n",
              "0       811\n",
              "935     694\n",
              "       ... \n",
              "435       1\n",
              "578       1\n",
              "109       1\n",
              "449       1\n",
              "708       1\n",
              "Name: klabel, Length: 993, dtype: int64"
            ]
          },
          "metadata": {},
          "execution_count": 10
        }
      ]
    },
    {
      "cell_type": "code",
      "metadata": {
        "id": "P_VyKb0qrvSA"
      },
      "source": [
        "cols = list(attack_data_major_category)\n",
        "cols.insert(78, cols.pop(cols.index('Label')))\n",
        "attack_data_major_category= attack_data_major_category.loc[:, cols]"
      ],
      "execution_count": null,
      "outputs": []
    },
    {
      "cell_type": "code",
      "metadata": {
        "id": "WxKDtp45r0OS"
      },
      "source": [
        "def typicalSampling(group):\n",
        "    name = group.name\n",
        "    frac = 0.008\n",
        "    return group.sample(frac=frac)\n",
        "\n",
        "resultant_data = attack_data_major_category.groupby('klabel', group_keys=False).apply(typicalSampling)"
      ],
      "execution_count": null,
      "outputs": []
    },
    {
      "cell_type": "code",
      "metadata": {
        "colab": {
          "base_uri": "https://localhost:8080/"
        },
        "id": "gbaWC0wyr22_",
        "outputId": "dc9cd351-228b-4dfb-944b-3ea8a322bd5f"
      },
      "source": [
        "resultant_data['Label'].value_counts()"
      ],
      "execution_count": null,
      "outputs": [
        {
          "output_type": "execute_result",
          "data": {
            "text/plain": [
              "0    133\n",
              "3    101\n",
              "5     61\n",
              "2     20\n",
              "Name: Label, dtype: int64"
            ]
          },
          "metadata": {},
          "execution_count": 13
        }
      ]
    },
    {
      "cell_type": "code",
      "metadata": {
        "colab": {
          "base_uri": "https://localhost:8080/",
          "height": 484
        },
        "id": "opr1GO2Dr5JH",
        "outputId": "648ee49f-0f62-4cc1-dc46-69b835f68d64"
      },
      "source": [
        "resultant_data"
      ],
      "execution_count": null,
      "outputs": [
        {
          "output_type": "execute_result",
          "data": {
            "text/html": [
              "<div>\n",
              "<style scoped>\n",
              "    .dataframe tbody tr th:only-of-type {\n",
              "        vertical-align: middle;\n",
              "    }\n",
              "\n",
              "    .dataframe tbody tr th {\n",
              "        vertical-align: top;\n",
              "    }\n",
              "\n",
              "    .dataframe thead th {\n",
              "        text-align: right;\n",
              "    }\n",
              "</style>\n",
              "<table border=\"1\" class=\"dataframe\">\n",
              "  <thead>\n",
              "    <tr style=\"text-align: right;\">\n",
              "      <th></th>\n",
              "      <th>Flow Duration</th>\n",
              "      <th>Total Fwd Packets</th>\n",
              "      <th>Total Backward Packets</th>\n",
              "      <th>Total Length of Fwd Packets</th>\n",
              "      <th>Total Length of Bwd Packets</th>\n",
              "      <th>Fwd Packet Length Max</th>\n",
              "      <th>Fwd Packet Length Min</th>\n",
              "      <th>Fwd Packet Length Mean</th>\n",
              "      <th>Fwd Packet Length Std</th>\n",
              "      <th>Bwd Packet Length Max</th>\n",
              "      <th>Bwd Packet Length Min</th>\n",
              "      <th>Bwd Packet Length Mean</th>\n",
              "      <th>Bwd Packet Length Std</th>\n",
              "      <th>Flow Bytes/s</th>\n",
              "      <th>Flow Packets/s</th>\n",
              "      <th>Flow IAT Mean</th>\n",
              "      <th>Flow IAT Std</th>\n",
              "      <th>Flow IAT Max</th>\n",
              "      <th>Flow IAT Min</th>\n",
              "      <th>Fwd IAT Total</th>\n",
              "      <th>Fwd IAT Mean</th>\n",
              "      <th>Fwd IAT Std</th>\n",
              "      <th>Fwd IAT Max</th>\n",
              "      <th>Fwd IAT Min</th>\n",
              "      <th>Bwd IAT Total</th>\n",
              "      <th>Bwd IAT Mean</th>\n",
              "      <th>Bwd IAT Std</th>\n",
              "      <th>Bwd IAT Max</th>\n",
              "      <th>Bwd IAT Min</th>\n",
              "      <th>Fwd PSH Flags</th>\n",
              "      <th>Bwd PSH Flags</th>\n",
              "      <th>Fwd URG Flags</th>\n",
              "      <th>Bwd URG Flags</th>\n",
              "      <th>Fwd Header Length</th>\n",
              "      <th>Bwd Header Length</th>\n",
              "      <th>Fwd Packets/s</th>\n",
              "      <th>Bwd Packets/s</th>\n",
              "      <th>Min Packet Length</th>\n",
              "      <th>Max Packet Length</th>\n",
              "      <th>Packet Length Mean</th>\n",
              "      <th>Packet Length Std</th>\n",
              "      <th>Packet Length Variance</th>\n",
              "      <th>FIN Flag Count</th>\n",
              "      <th>SYN Flag Count</th>\n",
              "      <th>RST Flag Count</th>\n",
              "      <th>PSH Flag Count</th>\n",
              "      <th>ACK Flag Count</th>\n",
              "      <th>URG Flag Count</th>\n",
              "      <th>CWE Flag Count</th>\n",
              "      <th>ECE Flag Count</th>\n",
              "      <th>Down/Up Ratio</th>\n",
              "      <th>Average Packet Size</th>\n",
              "      <th>Avg Fwd Segment Size</th>\n",
              "      <th>Avg Bwd Segment Size</th>\n",
              "      <th>Fwd Header Length.1</th>\n",
              "      <th>Fwd Avg Bytes/Bulk</th>\n",
              "      <th>Fwd Avg Packets/Bulk</th>\n",
              "      <th>Fwd Avg Bulk Rate</th>\n",
              "      <th>Bwd Avg Bytes/Bulk</th>\n",
              "      <th>Bwd Avg Packets/Bulk</th>\n",
              "      <th>Bwd Avg Bulk Rate</th>\n",
              "      <th>Subflow Fwd Packets</th>\n",
              "      <th>Subflow Fwd Bytes</th>\n",
              "      <th>Subflow Bwd Packets</th>\n",
              "      <th>Subflow Bwd Bytes</th>\n",
              "      <th>Init_Win_bytes_forward</th>\n",
              "      <th>Init_Win_bytes_backward</th>\n",
              "      <th>act_data_pkt_fwd</th>\n",
              "      <th>min_seg_size_forward</th>\n",
              "      <th>Active Mean</th>\n",
              "      <th>Active Std</th>\n",
              "      <th>Active Max</th>\n",
              "      <th>Active Min</th>\n",
              "      <th>Idle Mean</th>\n",
              "      <th>Idle Std</th>\n",
              "      <th>Idle Max</th>\n",
              "      <th>Idle Min</th>\n",
              "      <th>klabel</th>\n",
              "      <th>Label</th>\n",
              "    </tr>\n",
              "  </thead>\n",
              "  <tbody>\n",
              "    <tr>\n",
              "      <th>16330</th>\n",
              "      <td>-0.528467</td>\n",
              "      <td>-0.086001</td>\n",
              "      <td>-0.066771</td>\n",
              "      <td>-0.034212</td>\n",
              "      <td>-0.048288</td>\n",
              "      <td>-0.245670</td>\n",
              "      <td>-0.169382</td>\n",
              "      <td>-0.236405</td>\n",
              "      <td>-0.255104</td>\n",
              "      <td>-0.557556</td>\n",
              "      <td>-0.289423</td>\n",
              "      <td>-0.591663</td>\n",
              "      <td>-0.528223</td>\n",
              "      <td>0.0</td>\n",
              "      <td>0.0</td>\n",
              "      <td>-0.383672</td>\n",
              "      <td>-0.489378</td>\n",
              "      <td>-0.486916</td>\n",
              "      <td>-0.054946</td>\n",
              "      <td>-0.520668</td>\n",
              "      <td>-0.392488</td>\n",
              "      <td>-0.468399</td>\n",
              "      <td>-0.482885</td>\n",
              "      <td>-0.094671</td>\n",
              "      <td>-0.326264</td>\n",
              "      <td>-0.216404</td>\n",
              "      <td>-0.256196</td>\n",
              "      <td>-0.276215</td>\n",
              "      <td>-0.087937</td>\n",
              "      <td>-0.200224</td>\n",
              "      <td>0.0</td>\n",
              "      <td>-0.004201</td>\n",
              "      <td>0.0</td>\n",
              "      <td>-0.111779</td>\n",
              "      <td>-0.092709</td>\n",
              "      <td>-0.220606</td>\n",
              "      <td>0.078607</td>\n",
              "      <td>-0.339802</td>\n",
              "      <td>-0.567368</td>\n",
              "      <td>-0.619817</td>\n",
              "      <td>-0.568382</td>\n",
              "      <td>-0.431131</td>\n",
              "      <td>-0.250277</td>\n",
              "      <td>-0.200224</td>\n",
              "      <td>-0.011883</td>\n",
              "      <td>1.225473</td>\n",
              "      <td>-0.758865</td>\n",
              "      <td>-0.281049</td>\n",
              "      <td>-0.004201</td>\n",
              "      <td>-0.011883</td>\n",
              "      <td>0.585968</td>\n",
              "      <td>-0.620067</td>\n",
              "      <td>-0.236405</td>\n",
              "      <td>-0.591663</td>\n",
              "      <td>-0.111779</td>\n",
              "      <td>0.0</td>\n",
              "      <td>0.0</td>\n",
              "      <td>0.0</td>\n",
              "      <td>0.0</td>\n",
              "      <td>0.0</td>\n",
              "      <td>0.0</td>\n",
              "      <td>-0.086001</td>\n",
              "      <td>-0.034212</td>\n",
              "      <td>-0.066771</td>\n",
              "      <td>-0.048335</td>\n",
              "      <td>-0.524289</td>\n",
              "      <td>-0.257549</td>\n",
              "      <td>-0.058528</td>\n",
              "      <td>-0.434903</td>\n",
              "      <td>-0.109889</td>\n",
              "      <td>-0.081786</td>\n",
              "      <td>-0.128620</td>\n",
              "      <td>-0.094860</td>\n",
              "      <td>-0.458729</td>\n",
              "      <td>-0.137651</td>\n",
              "      <td>-0.466440</td>\n",
              "      <td>-0.442057</td>\n",
              "      <td>0</td>\n",
              "      <td>5</td>\n",
              "    </tr>\n",
              "    <tr>\n",
              "      <th>10682</th>\n",
              "      <td>-0.528467</td>\n",
              "      <td>-0.086001</td>\n",
              "      <td>-0.066771</td>\n",
              "      <td>-0.034212</td>\n",
              "      <td>-0.048288</td>\n",
              "      <td>-0.245670</td>\n",
              "      <td>-0.169382</td>\n",
              "      <td>-0.236405</td>\n",
              "      <td>-0.255104</td>\n",
              "      <td>-0.557556</td>\n",
              "      <td>-0.289423</td>\n",
              "      <td>-0.591663</td>\n",
              "      <td>-0.528223</td>\n",
              "      <td>0.0</td>\n",
              "      <td>0.0</td>\n",
              "      <td>-0.383671</td>\n",
              "      <td>-0.489378</td>\n",
              "      <td>-0.486916</td>\n",
              "      <td>-0.054945</td>\n",
              "      <td>-0.520668</td>\n",
              "      <td>-0.392488</td>\n",
              "      <td>-0.468399</td>\n",
              "      <td>-0.482885</td>\n",
              "      <td>-0.094671</td>\n",
              "      <td>-0.326264</td>\n",
              "      <td>-0.216404</td>\n",
              "      <td>-0.256196</td>\n",
              "      <td>-0.276215</td>\n",
              "      <td>-0.087937</td>\n",
              "      <td>-0.200224</td>\n",
              "      <td>0.0</td>\n",
              "      <td>-0.004201</td>\n",
              "      <td>0.0</td>\n",
              "      <td>-0.111779</td>\n",
              "      <td>-0.092709</td>\n",
              "      <td>-0.222481</td>\n",
              "      <td>0.066179</td>\n",
              "      <td>-0.339802</td>\n",
              "      <td>-0.567368</td>\n",
              "      <td>-0.619817</td>\n",
              "      <td>-0.568382</td>\n",
              "      <td>-0.431131</td>\n",
              "      <td>-0.250277</td>\n",
              "      <td>-0.200224</td>\n",
              "      <td>-0.011883</td>\n",
              "      <td>1.225473</td>\n",
              "      <td>-0.758865</td>\n",
              "      <td>-0.281049</td>\n",
              "      <td>-0.004201</td>\n",
              "      <td>-0.011883</td>\n",
              "      <td>0.585968</td>\n",
              "      <td>-0.620067</td>\n",
              "      <td>-0.236405</td>\n",
              "      <td>-0.591663</td>\n",
              "      <td>-0.111779</td>\n",
              "      <td>0.0</td>\n",
              "      <td>0.0</td>\n",
              "      <td>0.0</td>\n",
              "      <td>0.0</td>\n",
              "      <td>0.0</td>\n",
              "      <td>0.0</td>\n",
              "      <td>-0.086001</td>\n",
              "      <td>-0.034212</td>\n",
              "      <td>-0.066771</td>\n",
              "      <td>-0.048335</td>\n",
              "      <td>-0.524289</td>\n",
              "      <td>-0.257549</td>\n",
              "      <td>-0.058528</td>\n",
              "      <td>-0.434903</td>\n",
              "      <td>-0.109889</td>\n",
              "      <td>-0.081786</td>\n",
              "      <td>-0.128620</td>\n",
              "      <td>-0.094860</td>\n",
              "      <td>-0.458729</td>\n",
              "      <td>-0.137651</td>\n",
              "      <td>-0.466440</td>\n",
              "      <td>-0.442057</td>\n",
              "      <td>0</td>\n",
              "      <td>5</td>\n",
              "    </tr>\n",
              "    <tr>\n",
              "      <th>16280</th>\n",
              "      <td>-0.528468</td>\n",
              "      <td>-0.086001</td>\n",
              "      <td>-0.066771</td>\n",
              "      <td>-0.034212</td>\n",
              "      <td>-0.048288</td>\n",
              "      <td>-0.245670</td>\n",
              "      <td>-0.169382</td>\n",
              "      <td>-0.236405</td>\n",
              "      <td>-0.255104</td>\n",
              "      <td>-0.557556</td>\n",
              "      <td>-0.289423</td>\n",
              "      <td>-0.591663</td>\n",
              "      <td>-0.528223</td>\n",
              "      <td>0.0</td>\n",
              "      <td>0.0</td>\n",
              "      <td>-0.383675</td>\n",
              "      <td>-0.489378</td>\n",
              "      <td>-0.486916</td>\n",
              "      <td>-0.054950</td>\n",
              "      <td>-0.520668</td>\n",
              "      <td>-0.392488</td>\n",
              "      <td>-0.468399</td>\n",
              "      <td>-0.482885</td>\n",
              "      <td>-0.094671</td>\n",
              "      <td>-0.326264</td>\n",
              "      <td>-0.216404</td>\n",
              "      <td>-0.256196</td>\n",
              "      <td>-0.276215</td>\n",
              "      <td>-0.087937</td>\n",
              "      <td>-0.200224</td>\n",
              "      <td>0.0</td>\n",
              "      <td>-0.004201</td>\n",
              "      <td>0.0</td>\n",
              "      <td>-0.111779</td>\n",
              "      <td>-0.092709</td>\n",
              "      <td>-0.212448</td>\n",
              "      <td>0.132686</td>\n",
              "      <td>-0.339802</td>\n",
              "      <td>-0.567368</td>\n",
              "      <td>-0.619817</td>\n",
              "      <td>-0.568382</td>\n",
              "      <td>-0.431131</td>\n",
              "      <td>-0.250277</td>\n",
              "      <td>-0.200224</td>\n",
              "      <td>-0.011883</td>\n",
              "      <td>1.225473</td>\n",
              "      <td>-0.758865</td>\n",
              "      <td>-0.281049</td>\n",
              "      <td>-0.004201</td>\n",
              "      <td>-0.011883</td>\n",
              "      <td>0.585968</td>\n",
              "      <td>-0.620067</td>\n",
              "      <td>-0.236405</td>\n",
              "      <td>-0.591663</td>\n",
              "      <td>-0.111779</td>\n",
              "      <td>0.0</td>\n",
              "      <td>0.0</td>\n",
              "      <td>0.0</td>\n",
              "      <td>0.0</td>\n",
              "      <td>0.0</td>\n",
              "      <td>0.0</td>\n",
              "      <td>-0.086001</td>\n",
              "      <td>-0.034212</td>\n",
              "      <td>-0.066771</td>\n",
              "      <td>-0.048335</td>\n",
              "      <td>-0.524289</td>\n",
              "      <td>-0.257549</td>\n",
              "      <td>-0.058528</td>\n",
              "      <td>-0.434903</td>\n",
              "      <td>-0.109889</td>\n",
              "      <td>-0.081786</td>\n",
              "      <td>-0.128620</td>\n",
              "      <td>-0.094860</td>\n",
              "      <td>-0.458729</td>\n",
              "      <td>-0.137651</td>\n",
              "      <td>-0.466440</td>\n",
              "      <td>-0.442057</td>\n",
              "      <td>0</td>\n",
              "      <td>5</td>\n",
              "    </tr>\n",
              "    <tr>\n",
              "      <th>10603</th>\n",
              "      <td>-0.528468</td>\n",
              "      <td>-0.086001</td>\n",
              "      <td>-0.066771</td>\n",
              "      <td>-0.034212</td>\n",
              "      <td>-0.048288</td>\n",
              "      <td>-0.245670</td>\n",
              "      <td>-0.169382</td>\n",
              "      <td>-0.236405</td>\n",
              "      <td>-0.255104</td>\n",
              "      <td>-0.557556</td>\n",
              "      <td>-0.289423</td>\n",
              "      <td>-0.591663</td>\n",
              "      <td>-0.528223</td>\n",
              "      <td>0.0</td>\n",
              "      <td>0.0</td>\n",
              "      <td>-0.383675</td>\n",
              "      <td>-0.489378</td>\n",
              "      <td>-0.486916</td>\n",
              "      <td>-0.054950</td>\n",
              "      <td>-0.520668</td>\n",
              "      <td>-0.392488</td>\n",
              "      <td>-0.468399</td>\n",
              "      <td>-0.482885</td>\n",
              "      <td>-0.094671</td>\n",
              "      <td>-0.326264</td>\n",
              "      <td>-0.216404</td>\n",
              "      <td>-0.256196</td>\n",
              "      <td>-0.276215</td>\n",
              "      <td>-0.087937</td>\n",
              "      <td>-0.200224</td>\n",
              "      <td>0.0</td>\n",
              "      <td>-0.004201</td>\n",
              "      <td>0.0</td>\n",
              "      <td>-0.111779</td>\n",
              "      <td>-0.092709</td>\n",
              "      <td>-0.213132</td>\n",
              "      <td>0.128153</td>\n",
              "      <td>-0.339802</td>\n",
              "      <td>-0.567368</td>\n",
              "      <td>-0.619817</td>\n",
              "      <td>-0.568382</td>\n",
              "      <td>-0.431131</td>\n",
              "      <td>-0.250277</td>\n",
              "      <td>-0.200224</td>\n",
              "      <td>-0.011883</td>\n",
              "      <td>1.225473</td>\n",
              "      <td>-0.758865</td>\n",
              "      <td>-0.281049</td>\n",
              "      <td>-0.004201</td>\n",
              "      <td>-0.011883</td>\n",
              "      <td>0.585968</td>\n",
              "      <td>-0.620067</td>\n",
              "      <td>-0.236405</td>\n",
              "      <td>-0.591663</td>\n",
              "      <td>-0.111779</td>\n",
              "      <td>0.0</td>\n",
              "      <td>0.0</td>\n",
              "      <td>0.0</td>\n",
              "      <td>0.0</td>\n",
              "      <td>0.0</td>\n",
              "      <td>0.0</td>\n",
              "      <td>-0.086001</td>\n",
              "      <td>-0.034212</td>\n",
              "      <td>-0.066771</td>\n",
              "      <td>-0.048335</td>\n",
              "      <td>-0.524289</td>\n",
              "      <td>-0.257549</td>\n",
              "      <td>-0.058528</td>\n",
              "      <td>-0.434903</td>\n",
              "      <td>-0.109889</td>\n",
              "      <td>-0.081786</td>\n",
              "      <td>-0.128620</td>\n",
              "      <td>-0.094860</td>\n",
              "      <td>-0.458729</td>\n",
              "      <td>-0.137651</td>\n",
              "      <td>-0.466440</td>\n",
              "      <td>-0.442057</td>\n",
              "      <td>0</td>\n",
              "      <td>5</td>\n",
              "    </tr>\n",
              "    <tr>\n",
              "      <th>8695</th>\n",
              "      <td>-0.528467</td>\n",
              "      <td>-0.086001</td>\n",
              "      <td>-0.066771</td>\n",
              "      <td>-0.034212</td>\n",
              "      <td>-0.048288</td>\n",
              "      <td>-0.245670</td>\n",
              "      <td>-0.169382</td>\n",
              "      <td>-0.236405</td>\n",
              "      <td>-0.255104</td>\n",
              "      <td>-0.557556</td>\n",
              "      <td>-0.289423</td>\n",
              "      <td>-0.591663</td>\n",
              "      <td>-0.528223</td>\n",
              "      <td>0.0</td>\n",
              "      <td>0.0</td>\n",
              "      <td>-0.383671</td>\n",
              "      <td>-0.489378</td>\n",
              "      <td>-0.486916</td>\n",
              "      <td>-0.054945</td>\n",
              "      <td>-0.520668</td>\n",
              "      <td>-0.392488</td>\n",
              "      <td>-0.468399</td>\n",
              "      <td>-0.482885</td>\n",
              "      <td>-0.094671</td>\n",
              "      <td>-0.326264</td>\n",
              "      <td>-0.216404</td>\n",
              "      <td>-0.256196</td>\n",
              "      <td>-0.276215</td>\n",
              "      <td>-0.087937</td>\n",
              "      <td>-0.200224</td>\n",
              "      <td>0.0</td>\n",
              "      <td>-0.004201</td>\n",
              "      <td>0.0</td>\n",
              "      <td>-0.111779</td>\n",
              "      <td>-0.092709</td>\n",
              "      <td>-0.222028</td>\n",
              "      <td>0.069183</td>\n",
              "      <td>-0.339802</td>\n",
              "      <td>-0.567368</td>\n",
              "      <td>-0.619817</td>\n",
              "      <td>-0.568382</td>\n",
              "      <td>-0.431131</td>\n",
              "      <td>-0.250277</td>\n",
              "      <td>-0.200224</td>\n",
              "      <td>-0.011883</td>\n",
              "      <td>1.225473</td>\n",
              "      <td>-0.758865</td>\n",
              "      <td>-0.281049</td>\n",
              "      <td>-0.004201</td>\n",
              "      <td>-0.011883</td>\n",
              "      <td>0.585968</td>\n",
              "      <td>-0.620067</td>\n",
              "      <td>-0.236405</td>\n",
              "      <td>-0.591663</td>\n",
              "      <td>-0.111779</td>\n",
              "      <td>0.0</td>\n",
              "      <td>0.0</td>\n",
              "      <td>0.0</td>\n",
              "      <td>0.0</td>\n",
              "      <td>0.0</td>\n",
              "      <td>0.0</td>\n",
              "      <td>-0.086001</td>\n",
              "      <td>-0.034212</td>\n",
              "      <td>-0.066771</td>\n",
              "      <td>-0.048335</td>\n",
              "      <td>-0.524289</td>\n",
              "      <td>-0.257549</td>\n",
              "      <td>-0.058528</td>\n",
              "      <td>-0.434903</td>\n",
              "      <td>-0.109889</td>\n",
              "      <td>-0.081786</td>\n",
              "      <td>-0.128620</td>\n",
              "      <td>-0.094860</td>\n",
              "      <td>-0.458729</td>\n",
              "      <td>-0.137651</td>\n",
              "      <td>-0.466440</td>\n",
              "      <td>-0.442057</td>\n",
              "      <td>0</td>\n",
              "      <td>5</td>\n",
              "    </tr>\n",
              "    <tr>\n",
              "      <th>...</th>\n",
              "      <td>...</td>\n",
              "      <td>...</td>\n",
              "      <td>...</td>\n",
              "      <td>...</td>\n",
              "      <td>...</td>\n",
              "      <td>...</td>\n",
              "      <td>...</td>\n",
              "      <td>...</td>\n",
              "      <td>...</td>\n",
              "      <td>...</td>\n",
              "      <td>...</td>\n",
              "      <td>...</td>\n",
              "      <td>...</td>\n",
              "      <td>...</td>\n",
              "      <td>...</td>\n",
              "      <td>...</td>\n",
              "      <td>...</td>\n",
              "      <td>...</td>\n",
              "      <td>...</td>\n",
              "      <td>...</td>\n",
              "      <td>...</td>\n",
              "      <td>...</td>\n",
              "      <td>...</td>\n",
              "      <td>...</td>\n",
              "      <td>...</td>\n",
              "      <td>...</td>\n",
              "      <td>...</td>\n",
              "      <td>...</td>\n",
              "      <td>...</td>\n",
              "      <td>...</td>\n",
              "      <td>...</td>\n",
              "      <td>...</td>\n",
              "      <td>...</td>\n",
              "      <td>...</td>\n",
              "      <td>...</td>\n",
              "      <td>...</td>\n",
              "      <td>...</td>\n",
              "      <td>...</td>\n",
              "      <td>...</td>\n",
              "      <td>...</td>\n",
              "      <td>...</td>\n",
              "      <td>...</td>\n",
              "      <td>...</td>\n",
              "      <td>...</td>\n",
              "      <td>...</td>\n",
              "      <td>...</td>\n",
              "      <td>...</td>\n",
              "      <td>...</td>\n",
              "      <td>...</td>\n",
              "      <td>...</td>\n",
              "      <td>...</td>\n",
              "      <td>...</td>\n",
              "      <td>...</td>\n",
              "      <td>...</td>\n",
              "      <td>...</td>\n",
              "      <td>...</td>\n",
              "      <td>...</td>\n",
              "      <td>...</td>\n",
              "      <td>...</td>\n",
              "      <td>...</td>\n",
              "      <td>...</td>\n",
              "      <td>...</td>\n",
              "      <td>...</td>\n",
              "      <td>...</td>\n",
              "      <td>...</td>\n",
              "      <td>...</td>\n",
              "      <td>...</td>\n",
              "      <td>...</td>\n",
              "      <td>...</td>\n",
              "      <td>...</td>\n",
              "      <td>...</td>\n",
              "      <td>...</td>\n",
              "      <td>...</td>\n",
              "      <td>...</td>\n",
              "      <td>...</td>\n",
              "      <td>...</td>\n",
              "      <td>...</td>\n",
              "      <td>...</td>\n",
              "      <td>...</td>\n",
              "    </tr>\n",
              "    <tr>\n",
              "      <th>2028</th>\n",
              "      <td>-0.225759</td>\n",
              "      <td>-0.015701</td>\n",
              "      <td>-0.081806</td>\n",
              "      <td>-0.032901</td>\n",
              "      <td>-0.048343</td>\n",
              "      <td>-0.239691</td>\n",
              "      <td>-0.085798</td>\n",
              "      <td>-0.213428</td>\n",
              "      <td>-0.255104</td>\n",
              "      <td>-0.559719</td>\n",
              "      <td>-0.401700</td>\n",
              "      <td>-0.598739</td>\n",
              "      <td>-0.528223</td>\n",
              "      <td>0.0</td>\n",
              "      <td>0.0</td>\n",
              "      <td>0.195035</td>\n",
              "      <td>0.070577</td>\n",
              "      <td>-0.149328</td>\n",
              "      <td>-0.054972</td>\n",
              "      <td>-0.218323</td>\n",
              "      <td>-0.081670</td>\n",
              "      <td>-0.057307</td>\n",
              "      <td>-0.145858</td>\n",
              "      <td>-0.094670</td>\n",
              "      <td>-0.326264</td>\n",
              "      <td>-0.216404</td>\n",
              "      <td>-0.256196</td>\n",
              "      <td>-0.276215</td>\n",
              "      <td>-0.087937</td>\n",
              "      <td>-0.200224</td>\n",
              "      <td>0.0</td>\n",
              "      <td>-0.004201</td>\n",
              "      <td>0.0</td>\n",
              "      <td>-0.049348</td>\n",
              "      <td>-0.107454</td>\n",
              "      <td>-0.263727</td>\n",
              "      <td>-0.207240</td>\n",
              "      <td>-0.137286</td>\n",
              "      <td>-0.567368</td>\n",
              "      <td>-0.613276</td>\n",
              "      <td>-0.570996</td>\n",
              "      <td>-0.431133</td>\n",
              "      <td>-0.250277</td>\n",
              "      <td>-0.200224</td>\n",
              "      <td>-0.011883</td>\n",
              "      <td>-0.815997</td>\n",
              "      <td>1.317734</td>\n",
              "      <td>-0.281049</td>\n",
              "      <td>-0.004201</td>\n",
              "      <td>-0.011883</td>\n",
              "      <td>-1.010798</td>\n",
              "      <td>-0.615149</td>\n",
              "      <td>-0.213428</td>\n",
              "      <td>-0.598739</td>\n",
              "      <td>-0.049348</td>\n",
              "      <td>0.0</td>\n",
              "      <td>0.0</td>\n",
              "      <td>0.0</td>\n",
              "      <td>0.0</td>\n",
              "      <td>0.0</td>\n",
              "      <td>0.0</td>\n",
              "      <td>-0.015701</td>\n",
              "      <td>-0.032901</td>\n",
              "      <td>-0.081806</td>\n",
              "      <td>-0.048390</td>\n",
              "      <td>-0.581686</td>\n",
              "      <td>-0.257678</td>\n",
              "      <td>0.016609</td>\n",
              "      <td>-1.023413</td>\n",
              "      <td>-0.106401</td>\n",
              "      <td>-0.081786</td>\n",
              "      <td>-0.125872</td>\n",
              "      <td>-0.091086</td>\n",
              "      <td>-0.113383</td>\n",
              "      <td>-0.137651</td>\n",
              "      <td>-0.130227</td>\n",
              "      <td>-0.094215</td>\n",
              "      <td>984</td>\n",
              "      <td>3</td>\n",
              "    </tr>\n",
              "    <tr>\n",
              "      <th>33832</th>\n",
              "      <td>-0.265857</td>\n",
              "      <td>0.054600</td>\n",
              "      <td>0.143713</td>\n",
              "      <td>-0.029342</td>\n",
              "      <td>-0.046623</td>\n",
              "      <td>-0.211294</td>\n",
              "      <td>-0.211174</td>\n",
              "      <td>-0.180239</td>\n",
              "      <td>-0.212730</td>\n",
              "      <td>-0.547462</td>\n",
              "      <td>-0.401700</td>\n",
              "      <td>-0.583959</td>\n",
              "      <td>-0.516288</td>\n",
              "      <td>0.0</td>\n",
              "      <td>0.0</td>\n",
              "      <td>-0.296375</td>\n",
              "      <td>-0.379549</td>\n",
              "      <td>-0.385032</td>\n",
              "      <td>-0.054971</td>\n",
              "      <td>-0.350414</td>\n",
              "      <td>-0.305106</td>\n",
              "      <td>-0.361528</td>\n",
              "      <td>-0.384496</td>\n",
              "      <td>-0.094670</td>\n",
              "      <td>0.036632</td>\n",
              "      <td>-0.122842</td>\n",
              "      <td>-0.096607</td>\n",
              "      <td>-0.114220</td>\n",
              "      <td>-0.087936</td>\n",
              "      <td>-0.200224</td>\n",
              "      <td>0.0</td>\n",
              "      <td>-0.004201</td>\n",
              "      <td>0.0</td>\n",
              "      <td>0.111659</td>\n",
              "      <td>0.252308</td>\n",
              "      <td>-0.263725</td>\n",
              "      <td>-0.207201</td>\n",
              "      <td>-0.441060</td>\n",
              "      <td>-0.557433</td>\n",
              "      <td>-0.599148</td>\n",
              "      <td>-0.556685</td>\n",
              "      <td>-0.431067</td>\n",
              "      <td>-0.250277</td>\n",
              "      <td>-0.200224</td>\n",
              "      <td>-0.011883</td>\n",
              "      <td>1.225473</td>\n",
              "      <td>-0.758865</td>\n",
              "      <td>-0.281049</td>\n",
              "      <td>-0.004201</td>\n",
              "      <td>-0.011883</td>\n",
              "      <td>0.585968</td>\n",
              "      <td>-0.603862</td>\n",
              "      <td>-0.180239</td>\n",
              "      <td>-0.583959</td>\n",
              "      <td>0.111659</td>\n",
              "      <td>0.0</td>\n",
              "      <td>0.0</td>\n",
              "      <td>0.0</td>\n",
              "      <td>0.0</td>\n",
              "      <td>0.0</td>\n",
              "      <td>0.0</td>\n",
              "      <td>0.054600</td>\n",
              "      <td>-0.029342</td>\n",
              "      <td>0.143713</td>\n",
              "      <td>-0.046668</td>\n",
              "      <td>1.581445</td>\n",
              "      <td>-0.228341</td>\n",
              "      <td>0.054178</td>\n",
              "      <td>0.742115</td>\n",
              "      <td>-0.109889</td>\n",
              "      <td>-0.081786</td>\n",
              "      <td>-0.128620</td>\n",
              "      <td>-0.094860</td>\n",
              "      <td>-0.458729</td>\n",
              "      <td>-0.137651</td>\n",
              "      <td>-0.466440</td>\n",
              "      <td>-0.442057</td>\n",
              "      <td>992</td>\n",
              "      <td>2</td>\n",
              "    </tr>\n",
              "    <tr>\n",
              "      <th>33962</th>\n",
              "      <td>-0.281038</td>\n",
              "      <td>0.054600</td>\n",
              "      <td>0.143713</td>\n",
              "      <td>-0.029435</td>\n",
              "      <td>-0.046623</td>\n",
              "      <td>-0.212788</td>\n",
              "      <td>-0.211174</td>\n",
              "      <td>-0.181516</td>\n",
              "      <td>-0.213955</td>\n",
              "      <td>-0.547462</td>\n",
              "      <td>-0.401700</td>\n",
              "      <td>-0.583959</td>\n",
              "      <td>-0.516288</td>\n",
              "      <td>0.0</td>\n",
              "      <td>0.0</td>\n",
              "      <td>-0.301422</td>\n",
              "      <td>-0.385868</td>\n",
              "      <td>-0.391052</td>\n",
              "      <td>-0.054971</td>\n",
              "      <td>-0.349828</td>\n",
              "      <td>-0.304806</td>\n",
              "      <td>-0.361105</td>\n",
              "      <td>-0.385891</td>\n",
              "      <td>-0.094670</td>\n",
              "      <td>0.015654</td>\n",
              "      <td>-0.128250</td>\n",
              "      <td>-0.105784</td>\n",
              "      <td>-0.123791</td>\n",
              "      <td>-0.087936</td>\n",
              "      <td>-0.200224</td>\n",
              "      <td>0.0</td>\n",
              "      <td>-0.004201</td>\n",
              "      <td>0.0</td>\n",
              "      <td>0.111659</td>\n",
              "      <td>0.252308</td>\n",
              "      <td>-0.263725</td>\n",
              "      <td>-0.207198</td>\n",
              "      <td>-0.441060</td>\n",
              "      <td>-0.557433</td>\n",
              "      <td>-0.599344</td>\n",
              "      <td>-0.556762</td>\n",
              "      <td>-0.431067</td>\n",
              "      <td>-0.250277</td>\n",
              "      <td>-0.200224</td>\n",
              "      <td>-0.011883</td>\n",
              "      <td>1.225473</td>\n",
              "      <td>-0.758865</td>\n",
              "      <td>-0.281049</td>\n",
              "      <td>-0.004201</td>\n",
              "      <td>-0.011883</td>\n",
              "      <td>0.585968</td>\n",
              "      <td>-0.604048</td>\n",
              "      <td>-0.181516</td>\n",
              "      <td>-0.583959</td>\n",
              "      <td>0.111659</td>\n",
              "      <td>0.0</td>\n",
              "      <td>0.0</td>\n",
              "      <td>0.0</td>\n",
              "      <td>0.0</td>\n",
              "      <td>0.0</td>\n",
              "      <td>0.0</td>\n",
              "      <td>0.054600</td>\n",
              "      <td>-0.029435</td>\n",
              "      <td>0.143713</td>\n",
              "      <td>-0.046668</td>\n",
              "      <td>1.581445</td>\n",
              "      <td>-0.228341</td>\n",
              "      <td>0.054178</td>\n",
              "      <td>0.742115</td>\n",
              "      <td>-0.109889</td>\n",
              "      <td>-0.081786</td>\n",
              "      <td>-0.128620</td>\n",
              "      <td>-0.094860</td>\n",
              "      <td>-0.458729</td>\n",
              "      <td>-0.137651</td>\n",
              "      <td>-0.466440</td>\n",
              "      <td>-0.442057</td>\n",
              "      <td>992</td>\n",
              "      <td>2</td>\n",
              "    </tr>\n",
              "    <tr>\n",
              "      <th>34596</th>\n",
              "      <td>-0.270044</td>\n",
              "      <td>0.054600</td>\n",
              "      <td>0.143713</td>\n",
              "      <td>-0.029388</td>\n",
              "      <td>-0.046623</td>\n",
              "      <td>-0.208304</td>\n",
              "      <td>-0.211174</td>\n",
              "      <td>-0.180877</td>\n",
              "      <td>-0.212080</td>\n",
              "      <td>-0.547462</td>\n",
              "      <td>-0.401700</td>\n",
              "      <td>-0.583959</td>\n",
              "      <td>-0.516288</td>\n",
              "      <td>0.0</td>\n",
              "      <td>0.0</td>\n",
              "      <td>-0.297767</td>\n",
              "      <td>-0.381120</td>\n",
              "      <td>-0.384424</td>\n",
              "      <td>-0.054971</td>\n",
              "      <td>-0.341445</td>\n",
              "      <td>-0.300503</td>\n",
              "      <td>-0.355753</td>\n",
              "      <td>-0.379180</td>\n",
              "      <td>-0.094670</td>\n",
              "      <td>0.030847</td>\n",
              "      <td>-0.124333</td>\n",
              "      <td>-0.098862</td>\n",
              "      <td>-0.113254</td>\n",
              "      <td>-0.087936</td>\n",
              "      <td>-0.200224</td>\n",
              "      <td>0.0</td>\n",
              "      <td>-0.004201</td>\n",
              "      <td>0.0</td>\n",
              "      <td>0.111659</td>\n",
              "      <td>0.252308</td>\n",
              "      <td>-0.263725</td>\n",
              "      <td>-0.207200</td>\n",
              "      <td>-0.441060</td>\n",
              "      <td>-0.557433</td>\n",
              "      <td>-0.599246</td>\n",
              "      <td>-0.556643</td>\n",
              "      <td>-0.431066</td>\n",
              "      <td>-0.250277</td>\n",
              "      <td>-0.200224</td>\n",
              "      <td>-0.011883</td>\n",
              "      <td>1.225473</td>\n",
              "      <td>-0.758865</td>\n",
              "      <td>-0.281049</td>\n",
              "      <td>-0.004201</td>\n",
              "      <td>-0.011883</td>\n",
              "      <td>0.585968</td>\n",
              "      <td>-0.603955</td>\n",
              "      <td>-0.180877</td>\n",
              "      <td>-0.583959</td>\n",
              "      <td>0.111659</td>\n",
              "      <td>0.0</td>\n",
              "      <td>0.0</td>\n",
              "      <td>0.0</td>\n",
              "      <td>0.0</td>\n",
              "      <td>0.0</td>\n",
              "      <td>0.0</td>\n",
              "      <td>0.054600</td>\n",
              "      <td>-0.029388</td>\n",
              "      <td>0.143713</td>\n",
              "      <td>-0.046668</td>\n",
              "      <td>1.581445</td>\n",
              "      <td>-0.228341</td>\n",
              "      <td>0.054178</td>\n",
              "      <td>0.742115</td>\n",
              "      <td>-0.109889</td>\n",
              "      <td>-0.081786</td>\n",
              "      <td>-0.128620</td>\n",
              "      <td>-0.094860</td>\n",
              "      <td>-0.458729</td>\n",
              "      <td>-0.137651</td>\n",
              "      <td>-0.466440</td>\n",
              "      <td>-0.442057</td>\n",
              "      <td>992</td>\n",
              "      <td>2</td>\n",
              "    </tr>\n",
              "    <tr>\n",
              "      <th>7783</th>\n",
              "      <td>-0.527496</td>\n",
              "      <td>-0.086001</td>\n",
              "      <td>-0.066771</td>\n",
              "      <td>-0.031871</td>\n",
              "      <td>-0.047574</td>\n",
              "      <td>-0.170939</td>\n",
              "      <td>0.875419</td>\n",
              "      <td>0.050807</td>\n",
              "      <td>-0.255104</td>\n",
              "      <td>-0.529437</td>\n",
              "      <td>1.170180</td>\n",
              "      <td>-0.499684</td>\n",
              "      <td>-0.528223</td>\n",
              "      <td>0.0</td>\n",
              "      <td>0.0</td>\n",
              "      <td>-0.376247</td>\n",
              "      <td>-0.489378</td>\n",
              "      <td>-0.485831</td>\n",
              "      <td>-0.044176</td>\n",
              "      <td>-0.520668</td>\n",
              "      <td>-0.392488</td>\n",
              "      <td>-0.468399</td>\n",
              "      <td>-0.482885</td>\n",
              "      <td>-0.094671</td>\n",
              "      <td>-0.326264</td>\n",
              "      <td>-0.216404</td>\n",
              "      <td>-0.256196</td>\n",
              "      <td>-0.276215</td>\n",
              "      <td>-0.087937</td>\n",
              "      <td>-0.200224</td>\n",
              "      <td>0.0</td>\n",
              "      <td>-0.004201</td>\n",
              "      <td>0.0</td>\n",
              "      <td>-0.115065</td>\n",
              "      <td>-0.083863</td>\n",
              "      <td>-0.263622</td>\n",
              "      <td>-0.206536</td>\n",
              "      <td>2.191646</td>\n",
              "      <td>-0.539692</td>\n",
              "      <td>-0.474280</td>\n",
              "      <td>-0.550085</td>\n",
              "      <td>-0.430991</td>\n",
              "      <td>-0.250277</td>\n",
              "      <td>-0.200224</td>\n",
              "      <td>-0.011883</td>\n",
              "      <td>-0.815997</td>\n",
              "      <td>-0.758865</td>\n",
              "      <td>-0.281049</td>\n",
              "      <td>-0.004201</td>\n",
              "      <td>-0.011883</td>\n",
              "      <td>0.585968</td>\n",
              "      <td>-0.421142</td>\n",
              "      <td>0.050807</td>\n",
              "      <td>-0.499684</td>\n",
              "      <td>-0.115065</td>\n",
              "      <td>0.0</td>\n",
              "      <td>0.0</td>\n",
              "      <td>0.0</td>\n",
              "      <td>0.0</td>\n",
              "      <td>0.0</td>\n",
              "      <td>0.0</td>\n",
              "      <td>-0.086001</td>\n",
              "      <td>-0.031871</td>\n",
              "      <td>-0.066771</td>\n",
              "      <td>-0.047621</td>\n",
              "      <td>-0.600893</td>\n",
              "      <td>-0.257678</td>\n",
              "      <td>-0.058528</td>\n",
              "      <td>-1.023413</td>\n",
              "      <td>-0.109889</td>\n",
              "      <td>-0.081786</td>\n",
              "      <td>-0.128620</td>\n",
              "      <td>-0.094860</td>\n",
              "      <td>-0.458729</td>\n",
              "      <td>-0.137651</td>\n",
              "      <td>-0.466440</td>\n",
              "      <td>-0.442057</td>\n",
              "      <td>995</td>\n",
              "      <td>0</td>\n",
              "    </tr>\n",
              "  </tbody>\n",
              "</table>\n",
              "<p>315 rows × 79 columns</p>\n",
              "</div>"
            ],
            "text/plain": [
              "       Flow Duration  Total Fwd Packets  ...  klabel  Label\n",
              "16330      -0.528467          -0.086001  ...       0      5\n",
              "10682      -0.528467          -0.086001  ...       0      5\n",
              "16280      -0.528468          -0.086001  ...       0      5\n",
              "10603      -0.528468          -0.086001  ...       0      5\n",
              "8695       -0.528467          -0.086001  ...       0      5\n",
              "...              ...                ...  ...     ...    ...\n",
              "2028       -0.225759          -0.015701  ...     984      3\n",
              "33832      -0.265857           0.054600  ...     992      2\n",
              "33962      -0.281038           0.054600  ...     992      2\n",
              "34596      -0.270044           0.054600  ...     992      2\n",
              "7783       -0.527496          -0.086001  ...     995      0\n",
              "\n",
              "[315 rows x 79 columns]"
            ]
          },
          "metadata": {},
          "execution_count": 14
        }
      ]
    },
    {
      "cell_type": "markdown",
      "metadata": {
        "id": "DjEg-ddW38yt"
      },
      "source": [
        "Data splitting"
      ]
    },
    {
      "cell_type": "code",
      "metadata": {
        "id": "nGCfEkBysq-H"
      },
      "source": [
        "X = attack_data.drop(['Label'],axis=1).values\n",
        "y = attack_data.iloc[:, -1].values.reshape(-1,1)\n",
        "y=np.ravel(y)"
      ],
      "execution_count": null,
      "outputs": []
    },
    {
      "cell_type": "code",
      "metadata": {
        "id": "k7f2f0j87K6h"
      },
      "source": [
        "X_train, X_test, y_train, y_test = train_test_split(X,y, train_size = 0.8, test_size = 0.2, random_state = 0,stratify = y)"
      ],
      "execution_count": null,
      "outputs": []
    },
    {
      "cell_type": "code",
      "metadata": {
        "id": "RGxwhN9q7Nlz"
      },
      "source": [
        "#attribute selection process\n",
        "dominants = mutual_info_classif(X_train, y_train)"
      ],
      "execution_count": null,
      "outputs": []
    },
    {
      "cell_type": "code",
      "metadata": {
        "id": "tWjCdaVb7P32"
      },
      "source": [
        "attribute_list = sorted(zip(map(lambda x: round(x, 4),dominants), attributes), reverse=True)\n",
        "Sum = 0\n",
        "selected_attributes = []\n",
        "for i in range(0, len(attribute_list)):\n",
        "    Sum = Sum + attribute_list[i][0]\n",
        "    selected_attributes .append(attribute_list[i][1])"
      ],
      "execution_count": null,
      "outputs": []
    },
    {
      "cell_type": "code",
      "metadata": {
        "id": "WfwpA1K47T_U"
      },
      "source": [
        "# selecting the dominant attributes \n",
        "dominant_attribute_list = sorted(zip(map(lambda x: round(x, 4), dominants/Sum), attributes), reverse=True)\n",
        "Sum2 = 0\n",
        "selected_attributes = []\n",
        "for i in range(0, len(dominant_attribute_list)):\n",
        "    Sum2 = Sum2 + dominant_attribute_list[i][0]\n",
        "    selected_attributes.append(dominant_attribute_list[i][1])\n",
        "    if Sum2>=0.9:\n",
        "        break"
      ],
      "execution_count": null,
      "outputs": []
    },
    {
      "cell_type": "code",
      "metadata": {
        "id": "PpeUGhuO7V3F"
      },
      "source": [
        "selected_attributes_data = attack_data[selected_attributes ].values"
      ],
      "execution_count": null,
      "outputs": []
    },
    {
      "cell_type": "code",
      "metadata": {
        "id": "3TsAFLRG7k9-"
      },
      "source": [
        "#attributes selection by Fast Correlation Based Filter (FCBF)\n",
        "from FCBF_module import FCBF, FCBFK, FCBFiP, get_i\n",
        "fcbf = FCBFK(k = 20)"
      ],
      "execution_count": null,
      "outputs": []
    },
    {
      "cell_type": "code",
      "metadata": {
        "id": "BcBDj9Kg7oJF"
      },
      "source": [
        "selected_attributes_list = fcbf.fit_transform(selected_attributes_data,y)"
      ],
      "execution_count": null,
      "outputs": []
    },
    {
      "cell_type": "code",
      "metadata": {
        "colab": {
          "base_uri": "https://localhost:8080/"
        },
        "id": "DLiLxGww7reX",
        "outputId": "e97e2157-b402-4adb-c5ea-e682d7c65175"
      },
      "source": [
        "selected_attributes_list.shape"
      ],
      "execution_count": null,
      "outputs": [
        {
          "output_type": "execute_result",
          "data": {
            "text/plain": [
              "(56661, 20)"
            ]
          },
          "metadata": {},
          "execution_count": 23
        }
      ]
    },
    {
      "cell_type": "code",
      "metadata": {
        "id": "6QOY2ph57uGt"
      },
      "source": [
        "X_train, X_test, y_train, y_test = train_test_split(selected_attributes_list,y, train_size = 0.8, test_size = 0.2, random_state = 0,stratify = y)"
      ],
      "execution_count": null,
      "outputs": []
    },
    {
      "cell_type": "code",
      "metadata": {
        "colab": {
          "base_uri": "https://localhost:8080/"
        },
        "id": "o0Odaj358BCj",
        "outputId": "f5f34d0b-ddaf-4b2b-833a-c541243bcc12"
      },
      "source": [
        "X_train.shape"
      ],
      "execution_count": null,
      "outputs": [
        {
          "output_type": "execute_result",
          "data": {
            "text/plain": [
              "(45328, 20)"
            ]
          },
          "metadata": {},
          "execution_count": 25
        }
      ]
    },
    {
      "cell_type": "code",
      "metadata": {
        "colab": {
          "base_uri": "https://localhost:8080/"
        },
        "id": "pWl63y908OrD",
        "outputId": "0cf99950-2873-409b-ee60-ed0c79605cfa"
      },
      "source": [
        "pd.Series(y_train).value_counts()"
      ],
      "execution_count": null,
      "outputs": [
        {
          "output_type": "execute_result",
          "data": {
            "text/plain": [
              "0    18184\n",
              "3    15228\n",
              "5     6357\n",
              "2     2213\n",
              "6     1744\n",
              "1     1573\n",
              "4       29\n",
              "dtype: int64"
            ]
          },
          "metadata": {},
          "execution_count": 26
        }
      ]
    },
    {
      "cell_type": "code",
      "metadata": {
        "id": "2zkxjKbF8RNd"
      },
      "source": [
        "from imblearn.over_sampling import SMOTE\n",
        "smote=SMOTE(n_jobs=-1,sampling_strategy='auto')"
      ],
      "execution_count": null,
      "outputs": []
    },
    {
      "cell_type": "code",
      "metadata": {
        "id": "9QF3aaa49tjT"
      },
      "source": [
        "X_train, y_train = smote.fit_sample(X_train, y_train)"
      ],
      "execution_count": null,
      "outputs": []
    },
    {
      "cell_type": "code",
      "metadata": {
        "colab": {
          "base_uri": "https://localhost:8080/"
        },
        "id": "eOZihsfs8VIl",
        "outputId": "54c615ae-8a3f-4c97-9dce-22dfc6698e1a"
      },
      "source": [
        "pd.Series(y_train).value_counts()"
      ],
      "execution_count": null,
      "outputs": [
        {
          "output_type": "execute_result",
          "data": {
            "text/plain": [
              "6    18184\n",
              "5    18184\n",
              "4    18184\n",
              "3    18184\n",
              "2    18184\n",
              "1    18184\n",
              "0    18184\n",
              "dtype: int64"
            ]
          },
          "metadata": {},
          "execution_count": 29
        }
      ]
    },
    {
      "cell_type": "markdown",
      "metadata": {
        "id": "mq8UsTFhkMAW"
      },
      "source": [
        "Descision Tree classifier"
      ]
    },
    {
      "cell_type": "code",
      "metadata": {
        "colab": {
          "base_uri": "https://localhost:8080/"
        },
        "id": "q6iq0qt-Bcjk",
        "outputId": "f8022a03-01ba-4d69-9594-2b68c1404b24"
      },
      "source": [
        "des_tree_model = DecisionTreeClassifier(random_state = 0)\n",
        "des_tree_model.fit(X_train,y_train) \n",
        "des_tree_score=des_tree_model.score(X_test,y_test)\n",
        "y_predict=des_tree_model.predict(X_test)\n",
        "y_true=y_test\n",
        "print('Accuracy of Descision Tree : '+ str(des_tree_score))\n",
        "precision,recall,fscore,none= precision_recall_fscore_support(y_true, y_predict, average='weighted') \n",
        "print('Precision = '+(str(precision)))\n",
        "print('Recall = '+(str(recall)))\n",
        "print('F1-score = '+(str(fscore)))\n",
        "print(classification_report(y_true,y_predict))"
      ],
      "execution_count": null,
      "outputs": [
        {
          "output_type": "stream",
          "name": "stdout",
          "text": [
            "Accuracy of Descision Tree : 0.9927644930733257\n",
            "Precision = 0.9934159851599265\n",
            "Recall = 0.9927644930733257\n",
            "F1-score = 0.9930070318454302\n",
            "              precision    recall  f1-score   support\n",
            "\n",
            "           0       1.00      0.99      0.99      4547\n",
            "           1       0.98      0.99      0.98       393\n",
            "           2       1.00      1.00      1.00       554\n",
            "           3       1.00      1.00      1.00      3807\n",
            "           4       0.31      0.71      0.43         7\n",
            "           5       0.99      1.00      1.00      1589\n",
            "           6       0.95      0.99      0.97       436\n",
            "\n",
            "    accuracy                           0.99     11333\n",
            "   macro avg       0.89      0.95      0.91     11333\n",
            "weighted avg       0.99      0.99      0.99     11333\n",
            "\n"
          ]
        }
      ]
    },
    {
      "cell_type": "code",
      "metadata": {
        "id": "HK2JhLfYFyaW"
      },
      "source": [
        "dt_train=des_tree_model.predict(X_train)\n",
        "dt_test=des_tree_model.predict(X_test)"
      ],
      "execution_count": null,
      "outputs": []
    },
    {
      "cell_type": "code",
      "metadata": {
        "id": "y_D-1E8JkjxL"
      },
      "source": [
        "#extreme gradient boostclassifier"
      ],
      "execution_count": null,
      "outputs": []
    },
    {
      "cell_type": "code",
      "metadata": {
        "id": "njlJ2MMsBBz0",
        "colab": {
          "base_uri": "https://localhost:8080/"
        },
        "outputId": "636d8937-c550-41c6-94c5-b7984fe5273d"
      },
      "source": [
        "ex_grad_classifier = xgb.XGBClassifier(n_estimators = 10)\n",
        "ex_grad_classifier.fit(X_train,y_train)\n",
        "ex_grad_classifier_score=ex_grad_classifier.score(X_test,y_test)\n",
        "y_predict=ex_grad_classifier.predict(X_test)\n",
        "y_true=y_test\n",
        "print('Accuracy of ex_grad_classifierBoost: '+ str(ex_grad_classifier_score))\n",
        "precision,recall,fscore,none= precision_recall_fscore_support(y_true, y_predict, average='weighted') \n",
        "print('Precision = '+(str(precision)))\n",
        "print('Recall = '+(str(recall)))\n",
        "print('F1-score = '+(str(fscore)))\n",
        "print(classification_report(y_true,y_predict))"
      ],
      "execution_count": null,
      "outputs": [
        {
          "output_type": "stream",
          "name": "stdout",
          "text": [
            "Accuracy of ex_grad_classifierBoost: 0.8824671313862172\n",
            "Precision = 0.9223603306506323\n",
            "Recall = 0.8824671313862172\n",
            "F1-score = 0.8923539742890073\n",
            "              precision    recall  f1-score   support\n",
            "\n",
            "           0       0.97      0.76      0.85      4547\n",
            "           1       0.51      0.99      0.68       393\n",
            "           2       0.63      1.00      0.77       554\n",
            "           3       0.93      0.95      0.94      3807\n",
            "           4       0.02      0.57      0.04         7\n",
            "           5       0.99      0.99      0.99      1589\n",
            "           6       0.83      0.89      0.86       436\n",
            "\n",
            "    accuracy                           0.88     11333\n",
            "   macro avg       0.70      0.88      0.73     11333\n",
            "weighted avg       0.92      0.88      0.89     11333\n",
            "\n"
          ]
        }
      ]
    },
    {
      "cell_type": "code",
      "metadata": {
        "id": "B9I77iB4BNyO"
      },
      "source": [
        "xg_train=ex_grad_classifier.predict(X_train)\n",
        "xg_test=ex_grad_classifier.predict(X_test)"
      ],
      "execution_count": null,
      "outputs": []
    },
    {
      "cell_type": "markdown",
      "metadata": {
        "id": "ZGEobIRIlDKf"
      },
      "source": [
        "\n",
        "Apply stacking"
      ]
    },
    {
      "cell_type": "code",
      "metadata": {
        "id": "yozmzj-8jjYk",
        "colab": {
          "base_uri": "https://localhost:8080/"
        },
        "outputId": "d26c0b9a-01b0-4360-a9e2-3f6109022d54"
      },
      "source": [
        "base_predictions_train = pd.DataFrame( {'DecisionTree': dt_train.ravel(),'ex_grad_classifier': xg_train.ravel(),})\n",
        "base_predictions_train.head(5)"
      ],
      "execution_count": null,
      "outputs": [
        {
          "output_type": "execute_result",
          "data": {
            "text/html": [
              "<div>\n",
              "<style scoped>\n",
              "    .dataframe tbody tr th:only-of-type {\n",
              "        vertical-align: middle;\n",
              "    }\n",
              "\n",
              "    .dataframe tbody tr th {\n",
              "        vertical-align: top;\n",
              "    }\n",
              "\n",
              "    .dataframe thead th {\n",
              "        text-align: right;\n",
              "    }\n",
              "</style>\n",
              "<table border=\"1\" class=\"dataframe\">\n",
              "  <thead>\n",
              "    <tr style=\"text-align: right;\">\n",
              "      <th></th>\n",
              "      <th>DecisionTree</th>\n",
              "      <th>ex_grad_classifier</th>\n",
              "    </tr>\n",
              "  </thead>\n",
              "  <tbody>\n",
              "    <tr>\n",
              "      <th>0</th>\n",
              "      <td>5</td>\n",
              "      <td>5</td>\n",
              "    </tr>\n",
              "    <tr>\n",
              "      <th>1</th>\n",
              "      <td>3</td>\n",
              "      <td>3</td>\n",
              "    </tr>\n",
              "    <tr>\n",
              "      <th>2</th>\n",
              "      <td>5</td>\n",
              "      <td>5</td>\n",
              "    </tr>\n",
              "    <tr>\n",
              "      <th>3</th>\n",
              "      <td>3</td>\n",
              "      <td>3</td>\n",
              "    </tr>\n",
              "    <tr>\n",
              "      <th>4</th>\n",
              "      <td>2</td>\n",
              "      <td>2</td>\n",
              "    </tr>\n",
              "  </tbody>\n",
              "</table>\n",
              "</div>"
            ],
            "text/plain": [
              "   DecisionTree  ex_grad_classifier\n",
              "0             5                   5\n",
              "1             3                   3\n",
              "2             5                   5\n",
              "3             3                   3\n",
              "4             2                   2"
            ]
          },
          "metadata": {},
          "execution_count": 35
        }
      ]
    },
    {
      "cell_type": "code",
      "metadata": {
        "id": "97emrSZt5FZV"
      },
      "source": [
        "#trainging \n",
        "dt_train=dt_train.reshape(-1, 1)\n",
        "xg_train=xg_train.reshape(-1, 1)\n",
        "#testing\n",
        "dt_test=dt_test.reshape(-1, 1)\n",
        "xg_test=xg_test.reshape(-1, 1)"
      ],
      "execution_count": null,
      "outputs": []
    },
    {
      "cell_type": "code",
      "metadata": {
        "id": "TFnhsA36lT5R"
      },
      "source": [
        "x_train = np.concatenate(( dt_train,xg_train), axis=1)\n",
        "x_test = np.concatenate(( dt_test,xg_test), axis=1)"
      ],
      "execution_count": null,
      "outputs": []
    },
    {
      "cell_type": "code",
      "metadata": {
        "id": "PfuJ4ljUlb0X",
        "colab": {
          "base_uri": "https://localhost:8080/"
        },
        "outputId": "11b436eb-a2ed-4387-beeb-480fc3cd8d09"
      },
      "source": [
        "stk = xgb.XGBClassifier().fit(x_train, y_train)\n",
        "y_predict=stk.predict(x_test)\n",
        "y_true=y_test\n",
        "stk_score=accuracy_score(y_true,y_predict)\n",
        "print('Accuracy of Stacking: '+ str(stk_score))\n",
        "precision,recall,fscore,none= precision_recall_fscore_support(y_true, y_predict, average='weighted') \n",
        "print('Precision of Stacking: '+(str(precision)))\n",
        "print('Recall of Stacking: '+(str(recall)))\n",
        "print('F1-score of Stacking: '+(str(fscore)))\n",
        "print(classification_report(y_true,y_predict))\n"
      ],
      "execution_count": null,
      "outputs": [
        {
          "output_type": "stream",
          "name": "stdout",
          "text": [
            "Accuracy of Stacking: 0.9927644930733257\n",
            "Precision of Stacking: 0.9934159851599265\n",
            "Recall of Stacking: 0.9927644930733257\n",
            "F1-score of Stacking: 0.9930070318454302\n",
            "              precision    recall  f1-score   support\n",
            "\n",
            "           0       1.00      0.99      0.99      4547\n",
            "           1       0.98      0.99      0.98       393\n",
            "           2       1.00      1.00      1.00       554\n",
            "           3       1.00      1.00      1.00      3807\n",
            "           4       0.31      0.71      0.43         7\n",
            "           5       0.99      1.00      1.00      1589\n",
            "           6       0.95      0.99      0.97       436\n",
            "\n",
            "    accuracy                           0.99     11333\n",
            "   macro avg       0.89      0.95      0.91     11333\n",
            "weighted avg       0.99      0.99      0.99     11333\n",
            "\n"
          ]
        }
      ]
    }
  ]
}